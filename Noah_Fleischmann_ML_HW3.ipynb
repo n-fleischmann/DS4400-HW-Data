{
  "nbformat": 4,
  "nbformat_minor": 0,
  "metadata": {
    "colab": {
      "name": "Noah_Fleischmann_ML_HW3.ipynb",
      "provenance": [],
      "authorship_tag": "ABX9TyOIAQEwCfTlDbWTDBSjd0l2",
      "include_colab_link": true
    },
    "kernelspec": {
      "name": "python3",
      "display_name": "Python 3"
    },
    "language_info": {
      "name": "python"
    }
  },
  "cells": [
    {
      "cell_type": "markdown",
      "metadata": {
        "id": "view-in-github",
        "colab_type": "text"
      },
      "source": [
        "<a href=\"https://colab.research.google.com/github/n-fleischmann/DS4400-HW-Data/blob/main/Noah_Fleischmann_ML_HW3.ipynb\" target=\"_parent\"><img src=\"https://colab.research.google.com/assets/colab-badge.svg\" alt=\"Open In Colab\"/></a>"
      ]
    },
    {
      "cell_type": "markdown",
      "source": [
        "# HW 3\n",
        "\n",
        "Importing Data"
      ],
      "metadata": {
        "id": "y9qZHcVtAnVp"
      }
    },
    {
      "cell_type": "code",
      "source": [
        "import pandas as pd\n",
        "from sklearn.model_selection import train_test_split\n",
        "from sklearn.linear_model import LogisticRegression\n",
        "import sklearn.metrics as m\n",
        "from math import e\n",
        "import numpy as np"
      ],
      "metadata": {
        "id": "4S215v5NAmgb"
      },
      "execution_count": 2,
      "outputs": []
    },
    {
      "cell_type": "markdown",
      "source": [
        "## Importing Data"
      ],
      "metadata": {
        "id": "gEPCV_cfO7rb"
      }
    },
    {
      "cell_type": "code",
      "execution_count": 3,
      "metadata": {
        "colab": {
          "base_uri": "https://localhost:8080/",
          "height": 424
        },
        "id": "WWG7OWD1ASuM",
        "outputId": "a720832c-932c-42e3-9d9c-bdb696bbd4f0"
      },
      "outputs": [
        {
          "output_type": "execute_result",
          "data": {
            "text/plain": [
              "        0     1     2    3     4     5     6     7     8     9   ...     48  \\\n",
              "0     0.00  0.64  0.64  0.0  0.32  0.00  0.00  0.00  0.00  0.00  ...  0.000   \n",
              "1     0.21  0.28  0.50  0.0  0.14  0.28  0.21  0.07  0.00  0.94  ...  0.000   \n",
              "2     0.06  0.00  0.71  0.0  1.23  0.19  0.19  0.12  0.64  0.25  ...  0.010   \n",
              "3     0.00  0.00  0.00  0.0  0.63  0.00  0.31  0.63  0.31  0.63  ...  0.000   \n",
              "4     0.00  0.00  0.00  0.0  0.63  0.00  0.31  0.63  0.31  0.63  ...  0.000   \n",
              "...    ...   ...   ...  ...   ...   ...   ...   ...   ...   ...  ...    ...   \n",
              "4596  0.31  0.00  0.62  0.0  0.00  0.31  0.00  0.00  0.00  0.00  ...  0.000   \n",
              "4597  0.00  0.00  0.00  0.0  0.00  0.00  0.00  0.00  0.00  0.00  ...  0.000   \n",
              "4598  0.30  0.00  0.30  0.0  0.00  0.00  0.00  0.00  0.00  0.00  ...  0.102   \n",
              "4599  0.96  0.00  0.00  0.0  0.32  0.00  0.00  0.00  0.00  0.00  ...  0.000   \n",
              "4600  0.00  0.00  0.65  0.0  0.00  0.00  0.00  0.00  0.00  0.00  ...  0.000   \n",
              "\n",
              "         49   50     51     52     53     54   55    56  57  \n",
              "0     0.000  0.0  0.778  0.000  0.000  3.756   61   278   1  \n",
              "1     0.132  0.0  0.372  0.180  0.048  5.114  101  1028   1  \n",
              "2     0.143  0.0  0.276  0.184  0.010  9.821  485  2259   1  \n",
              "3     0.137  0.0  0.137  0.000  0.000  3.537   40   191   1  \n",
              "4     0.135  0.0  0.135  0.000  0.000  3.537   40   191   1  \n",
              "...     ...  ...    ...    ...    ...    ...  ...   ...  ..  \n",
              "4596  0.232  0.0  0.000  0.000  0.000  1.142    3    88   0  \n",
              "4597  0.000  0.0  0.353  0.000  0.000  1.555    4    14   0  \n",
              "4598  0.718  0.0  0.000  0.000  0.000  1.404    6   118   0  \n",
              "4599  0.057  0.0  0.000  0.000  0.000  1.147    5    78   0  \n",
              "4600  0.000  0.0  0.125  0.000  0.000  1.250    5    40   0  \n",
              "\n",
              "[4601 rows x 58 columns]"
            ],
            "text/html": [
              "\n",
              "  <div id=\"df-b59f845f-0c61-431a-80c1-e95a7ca2673f\">\n",
              "    <div class=\"colab-df-container\">\n",
              "      <div>\n",
              "<style scoped>\n",
              "    .dataframe tbody tr th:only-of-type {\n",
              "        vertical-align: middle;\n",
              "    }\n",
              "\n",
              "    .dataframe tbody tr th {\n",
              "        vertical-align: top;\n",
              "    }\n",
              "\n",
              "    .dataframe thead th {\n",
              "        text-align: right;\n",
              "    }\n",
              "</style>\n",
              "<table border=\"1\" class=\"dataframe\">\n",
              "  <thead>\n",
              "    <tr style=\"text-align: right;\">\n",
              "      <th></th>\n",
              "      <th>0</th>\n",
              "      <th>1</th>\n",
              "      <th>2</th>\n",
              "      <th>3</th>\n",
              "      <th>4</th>\n",
              "      <th>5</th>\n",
              "      <th>6</th>\n",
              "      <th>7</th>\n",
              "      <th>8</th>\n",
              "      <th>9</th>\n",
              "      <th>...</th>\n",
              "      <th>48</th>\n",
              "      <th>49</th>\n",
              "      <th>50</th>\n",
              "      <th>51</th>\n",
              "      <th>52</th>\n",
              "      <th>53</th>\n",
              "      <th>54</th>\n",
              "      <th>55</th>\n",
              "      <th>56</th>\n",
              "      <th>57</th>\n",
              "    </tr>\n",
              "  </thead>\n",
              "  <tbody>\n",
              "    <tr>\n",
              "      <th>0</th>\n",
              "      <td>0.00</td>\n",
              "      <td>0.64</td>\n",
              "      <td>0.64</td>\n",
              "      <td>0.0</td>\n",
              "      <td>0.32</td>\n",
              "      <td>0.00</td>\n",
              "      <td>0.00</td>\n",
              "      <td>0.00</td>\n",
              "      <td>0.00</td>\n",
              "      <td>0.00</td>\n",
              "      <td>...</td>\n",
              "      <td>0.000</td>\n",
              "      <td>0.000</td>\n",
              "      <td>0.0</td>\n",
              "      <td>0.778</td>\n",
              "      <td>0.000</td>\n",
              "      <td>0.000</td>\n",
              "      <td>3.756</td>\n",
              "      <td>61</td>\n",
              "      <td>278</td>\n",
              "      <td>1</td>\n",
              "    </tr>\n",
              "    <tr>\n",
              "      <th>1</th>\n",
              "      <td>0.21</td>\n",
              "      <td>0.28</td>\n",
              "      <td>0.50</td>\n",
              "      <td>0.0</td>\n",
              "      <td>0.14</td>\n",
              "      <td>0.28</td>\n",
              "      <td>0.21</td>\n",
              "      <td>0.07</td>\n",
              "      <td>0.00</td>\n",
              "      <td>0.94</td>\n",
              "      <td>...</td>\n",
              "      <td>0.000</td>\n",
              "      <td>0.132</td>\n",
              "      <td>0.0</td>\n",
              "      <td>0.372</td>\n",
              "      <td>0.180</td>\n",
              "      <td>0.048</td>\n",
              "      <td>5.114</td>\n",
              "      <td>101</td>\n",
              "      <td>1028</td>\n",
              "      <td>1</td>\n",
              "    </tr>\n",
              "    <tr>\n",
              "      <th>2</th>\n",
              "      <td>0.06</td>\n",
              "      <td>0.00</td>\n",
              "      <td>0.71</td>\n",
              "      <td>0.0</td>\n",
              "      <td>1.23</td>\n",
              "      <td>0.19</td>\n",
              "      <td>0.19</td>\n",
              "      <td>0.12</td>\n",
              "      <td>0.64</td>\n",
              "      <td>0.25</td>\n",
              "      <td>...</td>\n",
              "      <td>0.010</td>\n",
              "      <td>0.143</td>\n",
              "      <td>0.0</td>\n",
              "      <td>0.276</td>\n",
              "      <td>0.184</td>\n",
              "      <td>0.010</td>\n",
              "      <td>9.821</td>\n",
              "      <td>485</td>\n",
              "      <td>2259</td>\n",
              "      <td>1</td>\n",
              "    </tr>\n",
              "    <tr>\n",
              "      <th>3</th>\n",
              "      <td>0.00</td>\n",
              "      <td>0.00</td>\n",
              "      <td>0.00</td>\n",
              "      <td>0.0</td>\n",
              "      <td>0.63</td>\n",
              "      <td>0.00</td>\n",
              "      <td>0.31</td>\n",
              "      <td>0.63</td>\n",
              "      <td>0.31</td>\n",
              "      <td>0.63</td>\n",
              "      <td>...</td>\n",
              "      <td>0.000</td>\n",
              "      <td>0.137</td>\n",
              "      <td>0.0</td>\n",
              "      <td>0.137</td>\n",
              "      <td>0.000</td>\n",
              "      <td>0.000</td>\n",
              "      <td>3.537</td>\n",
              "      <td>40</td>\n",
              "      <td>191</td>\n",
              "      <td>1</td>\n",
              "    </tr>\n",
              "    <tr>\n",
              "      <th>4</th>\n",
              "      <td>0.00</td>\n",
              "      <td>0.00</td>\n",
              "      <td>0.00</td>\n",
              "      <td>0.0</td>\n",
              "      <td>0.63</td>\n",
              "      <td>0.00</td>\n",
              "      <td>0.31</td>\n",
              "      <td>0.63</td>\n",
              "      <td>0.31</td>\n",
              "      <td>0.63</td>\n",
              "      <td>...</td>\n",
              "      <td>0.000</td>\n",
              "      <td>0.135</td>\n",
              "      <td>0.0</td>\n",
              "      <td>0.135</td>\n",
              "      <td>0.000</td>\n",
              "      <td>0.000</td>\n",
              "      <td>3.537</td>\n",
              "      <td>40</td>\n",
              "      <td>191</td>\n",
              "      <td>1</td>\n",
              "    </tr>\n",
              "    <tr>\n",
              "      <th>...</th>\n",
              "      <td>...</td>\n",
              "      <td>...</td>\n",
              "      <td>...</td>\n",
              "      <td>...</td>\n",
              "      <td>...</td>\n",
              "      <td>...</td>\n",
              "      <td>...</td>\n",
              "      <td>...</td>\n",
              "      <td>...</td>\n",
              "      <td>...</td>\n",
              "      <td>...</td>\n",
              "      <td>...</td>\n",
              "      <td>...</td>\n",
              "      <td>...</td>\n",
              "      <td>...</td>\n",
              "      <td>...</td>\n",
              "      <td>...</td>\n",
              "      <td>...</td>\n",
              "      <td>...</td>\n",
              "      <td>...</td>\n",
              "      <td>...</td>\n",
              "    </tr>\n",
              "    <tr>\n",
              "      <th>4596</th>\n",
              "      <td>0.31</td>\n",
              "      <td>0.00</td>\n",
              "      <td>0.62</td>\n",
              "      <td>0.0</td>\n",
              "      <td>0.00</td>\n",
              "      <td>0.31</td>\n",
              "      <td>0.00</td>\n",
              "      <td>0.00</td>\n",
              "      <td>0.00</td>\n",
              "      <td>0.00</td>\n",
              "      <td>...</td>\n",
              "      <td>0.000</td>\n",
              "      <td>0.232</td>\n",
              "      <td>0.0</td>\n",
              "      <td>0.000</td>\n",
              "      <td>0.000</td>\n",
              "      <td>0.000</td>\n",
              "      <td>1.142</td>\n",
              "      <td>3</td>\n",
              "      <td>88</td>\n",
              "      <td>0</td>\n",
              "    </tr>\n",
              "    <tr>\n",
              "      <th>4597</th>\n",
              "      <td>0.00</td>\n",
              "      <td>0.00</td>\n",
              "      <td>0.00</td>\n",
              "      <td>0.0</td>\n",
              "      <td>0.00</td>\n",
              "      <td>0.00</td>\n",
              "      <td>0.00</td>\n",
              "      <td>0.00</td>\n",
              "      <td>0.00</td>\n",
              "      <td>0.00</td>\n",
              "      <td>...</td>\n",
              "      <td>0.000</td>\n",
              "      <td>0.000</td>\n",
              "      <td>0.0</td>\n",
              "      <td>0.353</td>\n",
              "      <td>0.000</td>\n",
              "      <td>0.000</td>\n",
              "      <td>1.555</td>\n",
              "      <td>4</td>\n",
              "      <td>14</td>\n",
              "      <td>0</td>\n",
              "    </tr>\n",
              "    <tr>\n",
              "      <th>4598</th>\n",
              "      <td>0.30</td>\n",
              "      <td>0.00</td>\n",
              "      <td>0.30</td>\n",
              "      <td>0.0</td>\n",
              "      <td>0.00</td>\n",
              "      <td>0.00</td>\n",
              "      <td>0.00</td>\n",
              "      <td>0.00</td>\n",
              "      <td>0.00</td>\n",
              "      <td>0.00</td>\n",
              "      <td>...</td>\n",
              "      <td>0.102</td>\n",
              "      <td>0.718</td>\n",
              "      <td>0.0</td>\n",
              "      <td>0.000</td>\n",
              "      <td>0.000</td>\n",
              "      <td>0.000</td>\n",
              "      <td>1.404</td>\n",
              "      <td>6</td>\n",
              "      <td>118</td>\n",
              "      <td>0</td>\n",
              "    </tr>\n",
              "    <tr>\n",
              "      <th>4599</th>\n",
              "      <td>0.96</td>\n",
              "      <td>0.00</td>\n",
              "      <td>0.00</td>\n",
              "      <td>0.0</td>\n",
              "      <td>0.32</td>\n",
              "      <td>0.00</td>\n",
              "      <td>0.00</td>\n",
              "      <td>0.00</td>\n",
              "      <td>0.00</td>\n",
              "      <td>0.00</td>\n",
              "      <td>...</td>\n",
              "      <td>0.000</td>\n",
              "      <td>0.057</td>\n",
              "      <td>0.0</td>\n",
              "      <td>0.000</td>\n",
              "      <td>0.000</td>\n",
              "      <td>0.000</td>\n",
              "      <td>1.147</td>\n",
              "      <td>5</td>\n",
              "      <td>78</td>\n",
              "      <td>0</td>\n",
              "    </tr>\n",
              "    <tr>\n",
              "      <th>4600</th>\n",
              "      <td>0.00</td>\n",
              "      <td>0.00</td>\n",
              "      <td>0.65</td>\n",
              "      <td>0.0</td>\n",
              "      <td>0.00</td>\n",
              "      <td>0.00</td>\n",
              "      <td>0.00</td>\n",
              "      <td>0.00</td>\n",
              "      <td>0.00</td>\n",
              "      <td>0.00</td>\n",
              "      <td>...</td>\n",
              "      <td>0.000</td>\n",
              "      <td>0.000</td>\n",
              "      <td>0.0</td>\n",
              "      <td>0.125</td>\n",
              "      <td>0.000</td>\n",
              "      <td>0.000</td>\n",
              "      <td>1.250</td>\n",
              "      <td>5</td>\n",
              "      <td>40</td>\n",
              "      <td>0</td>\n",
              "    </tr>\n",
              "  </tbody>\n",
              "</table>\n",
              "<p>4601 rows × 58 columns</p>\n",
              "</div>\n",
              "      <button class=\"colab-df-convert\" onclick=\"convertToInteractive('df-b59f845f-0c61-431a-80c1-e95a7ca2673f')\"\n",
              "              title=\"Convert this dataframe to an interactive table.\"\n",
              "              style=\"display:none;\">\n",
              "        \n",
              "  <svg xmlns=\"http://www.w3.org/2000/svg\" height=\"24px\"viewBox=\"0 0 24 24\"\n",
              "       width=\"24px\">\n",
              "    <path d=\"M0 0h24v24H0V0z\" fill=\"none\"/>\n",
              "    <path d=\"M18.56 5.44l.94 2.06.94-2.06 2.06-.94-2.06-.94-.94-2.06-.94 2.06-2.06.94zm-11 1L8.5 8.5l.94-2.06 2.06-.94-2.06-.94L8.5 2.5l-.94 2.06-2.06.94zm10 10l.94 2.06.94-2.06 2.06-.94-2.06-.94-.94-2.06-.94 2.06-2.06.94z\"/><path d=\"M17.41 7.96l-1.37-1.37c-.4-.4-.92-.59-1.43-.59-.52 0-1.04.2-1.43.59L10.3 9.45l-7.72 7.72c-.78.78-.78 2.05 0 2.83L4 21.41c.39.39.9.59 1.41.59.51 0 1.02-.2 1.41-.59l7.78-7.78 2.81-2.81c.8-.78.8-2.07 0-2.86zM5.41 20L4 18.59l7.72-7.72 1.47 1.35L5.41 20z\"/>\n",
              "  </svg>\n",
              "      </button>\n",
              "      \n",
              "  <style>\n",
              "    .colab-df-container {\n",
              "      display:flex;\n",
              "      flex-wrap:wrap;\n",
              "      gap: 12px;\n",
              "    }\n",
              "\n",
              "    .colab-df-convert {\n",
              "      background-color: #E8F0FE;\n",
              "      border: none;\n",
              "      border-radius: 50%;\n",
              "      cursor: pointer;\n",
              "      display: none;\n",
              "      fill: #1967D2;\n",
              "      height: 32px;\n",
              "      padding: 0 0 0 0;\n",
              "      width: 32px;\n",
              "    }\n",
              "\n",
              "    .colab-df-convert:hover {\n",
              "      background-color: #E2EBFA;\n",
              "      box-shadow: 0px 1px 2px rgba(60, 64, 67, 0.3), 0px 1px 3px 1px rgba(60, 64, 67, 0.15);\n",
              "      fill: #174EA6;\n",
              "    }\n",
              "\n",
              "    [theme=dark] .colab-df-convert {\n",
              "      background-color: #3B4455;\n",
              "      fill: #D2E3FC;\n",
              "    }\n",
              "\n",
              "    [theme=dark] .colab-df-convert:hover {\n",
              "      background-color: #434B5C;\n",
              "      box-shadow: 0px 1px 3px 1px rgba(0, 0, 0, 0.15);\n",
              "      filter: drop-shadow(0px 1px 2px rgba(0, 0, 0, 0.3));\n",
              "      fill: #FFFFFF;\n",
              "    }\n",
              "  </style>\n",
              "\n",
              "      <script>\n",
              "        const buttonEl =\n",
              "          document.querySelector('#df-b59f845f-0c61-431a-80c1-e95a7ca2673f button.colab-df-convert');\n",
              "        buttonEl.style.display =\n",
              "          google.colab.kernel.accessAllowed ? 'block' : 'none';\n",
              "\n",
              "        async function convertToInteractive(key) {\n",
              "          const element = document.querySelector('#df-b59f845f-0c61-431a-80c1-e95a7ca2673f');\n",
              "          const dataTable =\n",
              "            await google.colab.kernel.invokeFunction('convertToInteractive',\n",
              "                                                     [key], {});\n",
              "          if (!dataTable) return;\n",
              "\n",
              "          const docLinkHtml = 'Like what you see? Visit the ' +\n",
              "            '<a target=\"_blank\" href=https://colab.research.google.com/notebooks/data_table.ipynb>data table notebook</a>'\n",
              "            + ' to learn more about interactive tables.';\n",
              "          element.innerHTML = '';\n",
              "          dataTable['output_type'] = 'display_data';\n",
              "          await google.colab.output.renderOutput(dataTable, element);\n",
              "          const docLink = document.createElement('div');\n",
              "          docLink.innerHTML = docLinkHtml;\n",
              "          element.appendChild(docLink);\n",
              "        }\n",
              "      </script>\n",
              "    </div>\n",
              "  </div>\n",
              "  "
            ]
          },
          "metadata": {},
          "execution_count": 3
        }
      ],
      "source": [
        "raw_url = \"https://raw.githubusercontent.com/n-fleischmann/hw_data/main/spambase.data\"\n",
        "raw_df = pd.read_csv(raw_url, names=list(range(58)))\n",
        "raw_df"
      ]
    },
    {
      "cell_type": "code",
      "source": [
        "ys = raw_df[57]\n",
        "xs = raw_df.drop(57, axis=1)\n",
        "\n",
        "x_train, x_test, y_train, y_test = train_test_split(xs, ys, test_size=0.25, random_state = 2001)"
      ],
      "metadata": {
        "id": "0m5E5XN1BLyF"
      },
      "execution_count": 4,
      "outputs": []
    },
    {
      "cell_type": "markdown",
      "source": [
        "## Question 1"
      ],
      "metadata": {
        "id": "r1oceIQOPBYh"
      }
    },
    {
      "cell_type": "code",
      "source": [
        "logit = LogisticRegression(random_state = 0)\n",
        "logit.fit(x_train, y_train)\n",
        "\n",
        "logit_y_test_pred = logit.predict(x_test)"
      ],
      "metadata": {
        "colab": {
          "base_uri": "https://localhost:8080/"
        },
        "id": "GjxofM2TB6qo",
        "outputId": "cf74f870-7bbd-40f0-859a-aca1a5f9d296"
      },
      "execution_count": 5,
      "outputs": [
        {
          "output_type": "stream",
          "name": "stderr",
          "text": [
            "/usr/local/lib/python3.7/dist-packages/sklearn/linear_model/_logistic.py:818: ConvergenceWarning: lbfgs failed to converge (status=1):\n",
            "STOP: TOTAL NO. of ITERATIONS REACHED LIMIT.\n",
            "\n",
            "Increase the number of iterations (max_iter) or scale the data as shown in:\n",
            "    https://scikit-learn.org/stable/modules/preprocessing.html\n",
            "Please also refer to the documentation for alternative solver options:\n",
            "    https://scikit-learn.org/stable/modules/linear_model.html#logistic-regression\n",
            "  extra_warning_msg=_LOGISTIC_SOLVER_CONVERGENCE_MSG,\n"
          ]
        }
      ]
    },
    {
      "cell_type": "code",
      "source": [
        "m.confusion_matrix(y_test, logit_y_test_pred)"
      ],
      "metadata": {
        "colab": {
          "base_uri": "https://localhost:8080/"
        },
        "id": "xMr3A_z5CG91",
        "outputId": "0a7a42d4-ddc9-488a-dc0d-b5f7ac4078df"
      },
      "execution_count": 6,
      "outputs": [
        {
          "output_type": "execute_result",
          "data": {
            "text/plain": [
              "array([[659,  43],\n",
              "       [ 39, 410]])"
            ]
          },
          "metadata": {},
          "execution_count": 6
        }
      ]
    },
    {
      "cell_type": "code",
      "source": [
        "print(m.classification_report(y_test, logit_y_test_pred))"
      ],
      "metadata": {
        "colab": {
          "base_uri": "https://localhost:8080/"
        },
        "id": "v6r9B43fEZNa",
        "outputId": "645db6ee-5de6-4655-c847-313b24a3bc54"
      },
      "execution_count": 7,
      "outputs": [
        {
          "output_type": "stream",
          "name": "stdout",
          "text": [
            "              precision    recall  f1-score   support\n",
            "\n",
            "           0       0.94      0.94      0.94       702\n",
            "           1       0.91      0.91      0.91       449\n",
            "\n",
            "    accuracy                           0.93      1151\n",
            "   macro avg       0.92      0.93      0.93      1151\n",
            "weighted avg       0.93      0.93      0.93      1151\n",
            "\n"
          ]
        }
      ]
    },
    {
      "cell_type": "code",
      "source": [
        "m.f1_score(y_test, logit_y_test_pred)"
      ],
      "metadata": {
        "colab": {
          "base_uri": "https://localhost:8080/"
        },
        "id": "sb7De09YE_Dm",
        "outputId": "06029363-5618-48a0-eac2-dd381fc5a827"
      },
      "execution_count": 8,
      "outputs": [
        {
          "output_type": "execute_result",
          "data": {
            "text/plain": [
              "0.9090909090909092"
            ]
          },
          "metadata": {},
          "execution_count": 8
        }
      ]
    },
    {
      "cell_type": "code",
      "source": [
        "logit.coef_.max()"
      ],
      "metadata": {
        "colab": {
          "base_uri": "https://localhost:8080/"
        },
        "id": "kK09sOCoP97o",
        "outputId": "b29bb71c-ff7f-4c80-848e-fb9505841c5b"
      },
      "execution_count": 168,
      "outputs": [
        {
          "output_type": "execute_result",
          "data": {
            "text/plain": [
              "1.170310978564154"
            ]
          },
          "metadata": {},
          "execution_count": 168
        }
      ]
    },
    {
      "cell_type": "code",
      "source": [
        "print(logit.coef_)"
      ],
      "metadata": {
        "colab": {
          "base_uri": "https://localhost:8080/"
        },
        "id": "L1JsYM-aFQUf",
        "outputId": "a0d6a8b3-c69b-4d90-d04f-d3f9e85e5ac3"
      },
      "execution_count": 9,
      "outputs": [
        {
          "output_type": "stream",
          "name": "stdout",
          "text": [
            "[[-7.93453718e-02 -1.94561025e-01  1.66442272e-01  2.28632297e-01\n",
            "   8.49121665e-01  4.89473055e-01  1.17031098e+00  8.49293630e-01\n",
            "   2.50000521e-01  1.48388620e-01  1.83214408e-01  2.69417559e-02\n",
            "   1.25254421e-01  6.80395790e-02  2.74566653e-01  1.08530901e+00\n",
            "   6.42691761e-01  2.93857990e-01  6.94614414e-02  5.66064557e-01\n",
            "   1.95351638e-01  2.49494634e-01  1.09173820e+00  6.40586615e-01\n",
            "  -2.48787496e+00 -1.31671939e+00 -3.53302905e+00 -3.41078611e-01\n",
            "  -6.09691406e-01 -4.04220359e-01 -3.87383024e-01 -2.15991992e-01\n",
            "  -7.00113264e-01 -2.30484611e-01 -5.90537789e-01 -5.18797854e-02\n",
            "  -4.95483958e-01 -1.51590538e-01 -4.61980762e-01 -2.95926936e-01\n",
            "  -3.74413203e-01 -1.01581592e+00 -2.89020263e-01 -5.72503310e-01\n",
            "  -8.70183933e-01 -1.40669903e+00 -9.26623255e-02 -3.11363469e-01\n",
            "  -4.71367768e-01 -2.15318189e-01 -1.30459133e-01  3.30756347e-01\n",
            "   7.62000051e-01  2.29208772e-01  7.06870607e-02  1.09839172e-02\n",
            "   4.56317824e-04]]\n"
          ]
        }
      ]
    },
    {
      "cell_type": "code",
      "source": [
        "logit_test_probas = pd.DataFrame(logit.predict_proba(x_test)[:, 1]) #only want prob y=1\n",
        "\n",
        "thresholds = [0.25, 0.5, 0.75, 0.9]\n",
        "\n",
        "for thresh in thresholds:\n",
        "  y_preds = logit_test_probas.applymap(lambda x: 1 if x > thresh else 0 )\n",
        "  print(f\"Threshold: {thresh}  \\t Acc: {m.accuracy_score(y_test, y_preds)} \\t Pres: {m.precision_score(y_test, y_preds)} \\t Rec: {m.recall_score(y_test, y_preds)}\")"
      ],
      "metadata": {
        "colab": {
          "base_uri": "https://localhost:8080/"
        },
        "id": "3SwSWBx8FWmg",
        "outputId": "08c00fd2-3e7c-4d4d-b1b4-189e19da95be"
      },
      "execution_count": 10,
      "outputs": [
        {
          "output_type": "stream",
          "name": "stdout",
          "text": [
            "Threshold: 0.25  \t Acc: 0.8879235447437012 \t Pres: 0.791970802919708 \t Rec: 0.9665924276169265\n",
            "Threshold: 0.5  \t Acc: 0.9287576020851434 \t Pres: 0.9050772626931567 \t Rec: 0.9131403118040089\n",
            "Threshold: 0.75  \t Acc: 0.891398783666377 \t Pres: 0.945054945054945 \t Rec: 0.7661469933184856\n",
            "Threshold: 0.9  \t Acc: 0.8279756733275413 \t Pres: 0.966542750929368 \t Rec: 0.579064587973274\n"
          ]
        }
      ]
    },
    {
      "cell_type": "markdown",
      "source": [
        "## Question 2"
      ],
      "metadata": {
        "id": "cTIe2SMFO5U2"
      }
    },
    {
      "cell_type": "code",
      "source": [
        "def sigmoid(x):\n",
        "  return 1 / (1 + np.exp(-x))"
      ],
      "metadata": {
        "id": "oHG6ik0DPN9T"
      },
      "execution_count": 11,
      "outputs": []
    },
    {
      "cell_type": "code",
      "source": [
        "def update_theta(theta_old, X, y, lr):\n",
        "  # X : n x d\n",
        "  # theta: d x 1 --> X @ theta: n x 1\n",
        "  # X.T @ y = d x n @ n x 1: d x 1\n",
        "  tmp = sigmoid(X @ theta_old)\n",
        "  grad = (X.T @ (tmp - y))\n",
        "  return theta_old - (lr * grad)"
      ],
      "metadata": {
        "id": "DEhdMuQNO49q"
      },
      "execution_count": 12,
      "outputs": []
    },
    {
      "cell_type": "code",
      "source": [
        "#data_conversion\n",
        "\n",
        "x_train_np = x_train.to_numpy()\n",
        "x_test_np = x_test.to_numpy()\n",
        "\n",
        "y_train_np = y_train.to_numpy()\n",
        "y_test_np = y_test.to_numpy()\n",
        "\n",
        "x_train_np.shape"
      ],
      "metadata": {
        "colab": {
          "base_uri": "https://localhost:8080/"
        },
        "id": "-npF0SsSRJek",
        "outputId": "e7245d10-2359-45c4-dc67-dd1d65f84411"
      },
      "execution_count": 13,
      "outputs": [
        {
          "output_type": "execute_result",
          "data": {
            "text/plain": [
              "(3450, 57)"
            ]
          },
          "metadata": {},
          "execution_count": 13
        }
      ]
    },
    {
      "cell_type": "code",
      "source": [
        "pos_epochs = [10, 50, 100, 1000]\n",
        "alphas = [0.01, 0.1, 0.5, 0.75]\n",
        "\n",
        "results = {}\n",
        "\n",
        "\n",
        "for alpha in alphas:\n",
        "  results[alpha] = {}\n",
        "  for max_epoch in pos_epochs:\n",
        "\n",
        "    results[alpha][max_epoch] = {}\n",
        "    theta = np.ones(x_train_np.shape[1])\n",
        "\n",
        "    for _ in range(max_epoch):\n",
        "      theta = update_theta(theta, x_train_np, y_train_np, alpha)\n",
        "\n",
        "    tmp = pd.DataFrame(sigmoid(x_test_np @ theta))\n",
        "    y_hat = tmp.applymap(lambda x: 1 if x > 0.5 else 0)\n",
        "\n",
        "    results[alpha][max_epoch][\"accuracy\"]   = m.accuracy_score(y_test, y_hat)\n",
        "    results[alpha][max_epoch][\"precision\"]  = m.precision_score(y_test, y_hat)\n",
        "    results[alpha][max_epoch][\"recall\"]     = m.recall_score(y_test, y_hat)\n",
        "    results[alpha][max_epoch][\"f1\"]         = m.f1_score(y_test, y_hat)\n",
        "\n",
        "\n"
      ],
      "metadata": {
        "id": "joppG54LGRiL"
      },
      "execution_count": 162,
      "outputs": []
    },
    {
      "cell_type": "code",
      "source": [
        "for alpha, result in results.items():\n",
        "  print(f\"Alpha: {alpha}\")\n",
        "  for epoch, metrics in result.items():\n",
        "    print(f\"Num Epochs: {epoch}  \\t Acc: {metrics['accuracy']} \\t Pres: {metrics['precision']} \\t Rec: {round(metrics['recall'], 4)} \\t f1: {metrics['f1']}\")"
      ],
      "metadata": {
        "colab": {
          "base_uri": "https://localhost:8080/"
        },
        "id": "o2cyvx_eTHkk",
        "outputId": "9edc1bc3-33f3-4623-98c1-fa988ee4cfb1"
      },
      "execution_count": 164,
      "outputs": [
        {
          "output_type": "stream",
          "name": "stdout",
          "text": [
            "Alpha: 0.01\n",
            "Num Epochs: 10  \t Acc: 0.39009556907037357 \t Pres: 0.39009556907037357 \t Rec: 1.0 \t f1: 0.56125\n",
            "Num Epochs: 50  \t Acc: 0.41789748045178104 \t Pres: 0.40125111706881145 \t Rec: 1.0 \t f1: 0.5727040816326531\n",
            "Num Epochs: 100  \t Acc: 0.4152910512597741 \t Pres: 0.4001782531194296 \t Rec: 1.0 \t f1: 0.5716104392106939\n",
            "Num Epochs: 1000  \t Acc: 0.7037358818418766 \t Pres: 0.5981818181818181 \t Rec: 0.7327 \t f1: 0.6586586586586587\n",
            "Alpha: 0.1\n",
            "Num Epochs: 10  \t Acc: 0.39009556907037357 \t Pres: 0.39009556907037357 \t Rec: 1.0 \t f1: 0.56125\n",
            "Num Epochs: 50  \t Acc: 0.39183318853171156 \t Pres: 0.3907745865970409 \t Rec: 1.0 \t f1: 0.5619524405506884\n",
            "Num Epochs: 100  \t Acc: 0.4152910512597741 \t Pres: 0.4001782531194296 \t Rec: 1.0 \t f1: 0.5716104392106939\n",
            "Num Epochs: 1000  \t Acc: 0.6133796698523023 \t Pres: 0.5023866348448688 \t Rec: 0.9376 \t f1: 0.6542346542346542\n",
            "Alpha: 0.5\n",
            "Num Epochs: 10  \t Acc: 0.39009556907037357 \t Pres: 0.39009556907037357 \t Rec: 1.0 \t f1: 0.56125\n",
            "Num Epochs: 50  \t Acc: 0.39183318853171156 \t Pres: 0.3907745865970409 \t Rec: 1.0 \t f1: 0.5619524405506884\n",
            "Num Epochs: 100  \t Acc: 0.4152910512597741 \t Pres: 0.4001782531194296 \t Rec: 1.0 \t f1: 0.5716104392106939\n",
            "Num Epochs: 1000  \t Acc: 0.6333622936576889 \t Pres: 0.5167701863354037 \t Rec: 0.9265 \t f1: 0.6634768740031898\n",
            "Alpha: 0.75\n",
            "Num Epochs: 10  \t Acc: 0.39009556907037357 \t Pres: 0.39009556907037357 \t Rec: 1.0 \t f1: 0.56125\n",
            "Num Epochs: 50  \t Acc: 0.39183318853171156 \t Pres: 0.3907745865970409 \t Rec: 1.0 \t f1: 0.5619524405506884\n",
            "Num Epochs: 100  \t Acc: 0.4152910512597741 \t Pres: 0.4001782531194296 \t Rec: 1.0 \t f1: 0.5716104392106939\n",
            "Num Epochs: 1000  \t Acc: 0.573414422241529 \t Pres: 0.47687224669603523 \t Rec: 0.9644 \t f1: 0.6381724392041268\n"
          ]
        }
      ]
    },
    {
      "cell_type": "markdown",
      "source": [
        "## Question 3"
      ],
      "metadata": {
        "id": "Z8qAF1lNQ_rb"
      }
    },
    {
      "cell_type": "code",
      "source": [
        "from sklearn.discriminant_analysis import LinearDiscriminantAnalysis as lda\n",
        "from sklearn.neighbors import KNeighborsClassifier as knn\n",
        "from sklearn.model_selection import KFold"
      ],
      "metadata": {
        "id": "Rr01zhxTVF1v"
      },
      "execution_count": 18,
      "outputs": []
    },
    {
      "cell_type": "code",
      "source": [
        "k_values = [1, 3, 5, 10, 15]\n",
        "kf = KFold(n_splits=len(k_values)) # We want to test 4 values for K in KNN\n",
        "\n",
        "knn_models = {}\n",
        "\n",
        "\n",
        "for i, (train_idx, val_idx) in enumerate(kf.split(x_train)):\n",
        "  x_train_k, x_val = x_train.iloc[train_idx], x_train.iloc[val_idx]\n",
        "  y_train_k, y_val = y_train.iloc[train_idx], y_train.iloc[val_idx]\n",
        "  \n",
        "  knn_k = knn(n_neighbors= k_values[i])\n",
        "  knn_k.fit(x_train_k, y_train_k)\n",
        "  y_hat_val = knn_k.predict(x_val)\n",
        "\n",
        "  acc = m.accuracy_score(y_val, y_hat_val)\n",
        "  err = 1 - acc\n",
        "  prec = m.precision_score(y_val, y_hat_val)\n",
        "  rec = m.recall_score(y_val, y_hat_val)\n",
        "\n",
        "  knn_models[i] = {\n",
        "      \"model\": knn_k,\n",
        "      \"acc\": acc,\n",
        "      \"prec\": prec,\n",
        "      \"rec\": rec\n",
        "  }\n",
        "\n",
        "  print(f\"K: {k_values[i]} \\t Acc: {acc} \\t err: {err} \\t prec: {prec} \\t rec: {rec}\")"
      ],
      "metadata": {
        "colab": {
          "base_uri": "https://localhost:8080/"
        },
        "id": "PSvzQBscRQKA",
        "outputId": "ec66e06a-4042-461a-8417-94cf6278f92e"
      },
      "execution_count": 34,
      "outputs": [
        {
          "output_type": "stream",
          "name": "stdout",
          "text": [
            "K: 1 \t Acc: 0.8159420289855073 \t err: 0.18405797101449273 \t prec: 0.7386363636363636 \t rec: 0.7707509881422925\n",
            "K: 3 \t Acc: 0.7942028985507247 \t err: 0.20579710144927532 \t prec: 0.7703703703703704 \t rec: 0.7222222222222222\n",
            "K: 5 \t Acc: 0.8028985507246377 \t err: 0.19710144927536233 \t prec: 0.7977099236641222 \t rec: 0.7157534246575342\n",
            "K: 10 \t Acc: 0.7840579710144927 \t err: 0.2159420289855073 \t prec: 0.762114537444934 \t rec: 0.6455223880597015\n",
            "K: 15 \t Acc: 0.7710144927536232 \t err: 0.22898550724637678 \t prec: 0.7042801556420234 \t rec: 0.688212927756654\n"
          ]
        }
      ]
    },
    {
      "cell_type": "code",
      "source": [
        "knn_3 = knn_models[3]['model']\n",
        "lDiscrim = lda()\n",
        "logit_2 = LogisticRegression()\n",
        "\n",
        "lDiscrim.fit(x_train, y_train)\n",
        "logit_2.fit(x_train, y_train)\n",
        "\n",
        "def score_model(model, model_name):\n",
        "  y_hat = model.predict(x_test)\n",
        "\n",
        "  acc = m.accuracy_score(y_test, y_hat)\n",
        "  err = 1 - acc\n",
        "  prec = m.precision_score(y_test, y_hat)\n",
        "  rec = m.recall_score(y_test, y_hat)\n",
        "\n",
        "  template = \"Model: {} \\t Accuracy: {:.4f} \\t Error: {:.4f} \\t Precision: {:.4f} \\t Recall: {:.4f}\" \n",
        "\n",
        "  print(template.format(model_name, acc, err, prec, rec))\n",
        "  \n",
        "score_model(knn_3, \"KNN - 3\")\n",
        "score_model(lDiscrim, \"LDA\")\n",
        "score_model(logit_2, \"Logit\")"
      ],
      "metadata": {
        "colab": {
          "base_uri": "https://localhost:8080/"
        },
        "id": "Tagi7ZDxTGow",
        "outputId": "1968470c-1226-4f3c-ac3a-d5b13f0664b1"
      },
      "execution_count": 169,
      "outputs": [
        {
          "output_type": "stream",
          "name": "stdout",
          "text": [
            "Model: KNN - 3 \t Accuracy: 0.7689 \t Error: 0.2311 \t Precision: 0.7316 \t Recall: 0.6437\n",
            "Model: LDA \t Accuracy: 0.8983 \t Error: 0.1017 \t Precision: 0.9256 \t Recall: 0.8040\n",
            "Model: Logit \t Accuracy: 0.9288 \t Error: 0.0712 \t Precision: 0.9051 \t Recall: 0.9131\n"
          ]
        }
      ]
    },
    {
      "cell_type": "code",
      "source": [
        "from sklearn.metrics import plot_roc_curve #plots the curve using matplotlib and \n",
        "#puts the AUC in the legend\n",
        "\n",
        "plot_roc_curve(logit_2, x_test, y_test)"
      ],
      "metadata": {
        "colab": {
          "base_uri": "https://localhost:8080/",
          "height": 354
        },
        "id": "l-xN0FTff5XH",
        "outputId": "f78d8c29-7a2e-423a-a96f-9d62181846e4"
      },
      "execution_count": 37,
      "outputs": [
        {
          "output_type": "stream",
          "name": "stderr",
          "text": [
            "/usr/local/lib/python3.7/dist-packages/sklearn/utils/deprecation.py:87: FutureWarning: Function plot_roc_curve is deprecated; Function :func:`plot_roc_curve` is deprecated in 1.0 and will be removed in 1.2. Use one of the class methods: :meth:`sklearn.metric.RocCurveDisplay.from_predictions` or :meth:`sklearn.metric.RocCurveDisplay.from_estimator`.\n",
            "  warnings.warn(msg, category=FutureWarning)\n"
          ]
        },
        {
          "output_type": "execute_result",
          "data": {
            "text/plain": [
              "<sklearn.metrics._plot.roc_curve.RocCurveDisplay at 0x7ff44d0ef910>"
            ]
          },
          "metadata": {},
          "execution_count": 37
        },
        {
          "output_type": "display_data",
          "data": {
            "text/plain": [
              "<Figure size 432x288 with 1 Axes>"
            ],
            "image/png": "[encoded data removed]"
          },
          "metadata": {
            "needs_background": "light"
          }
        }
      ]
    },
    {
      "cell_type": "code",
      "source": [
        "# Doing it manually\n",
        "thresholds = [x / 10 for x in range(0, 11)]\n",
        "\n",
        "\"\"\"\n",
        "y_pred\t\ty_true\t\ty_pred-y_true\t\ttype\n",
        "0\t\t\t\t0\t\t\t0\t\t\t\tTrue Negative\n",
        "0\t\t\t\t1\t\t\t-1\t\t\tFalse Negative\n",
        "1\t\t\t\t0\t\t\t1\t\t\t\tFalse Positive\n",
        "1\t\t\t\t1\t\t\t0\t\t\t\tTrue Positive\n",
        "\n",
        "True positive rate = recall\n",
        "False positive rate = [count of 1 in y_pred-y_true] / [count of 0 in y_true]\n",
        "\"\"\"\n",
        "\n",
        "TPRs, FPRs = [], []\n",
        "y_probas = pd.DataFrame(logit_2.predict_proba(x_test)[:, 0])\n",
        "\n",
        "for threshold in thresholds:\n",
        "  y_pred = y_probas.applymap(lambda x : 1.0 if x >= threshold else 0.0)\n",
        "  \n",
        "  false_pos = 0\n",
        "  y_ts = 0\n",
        "  for p, t in zip(y_pred[0].to_list(), y_test.to_list()):\n",
        "    if t == 0: y_ts += 1\n",
        "    if p == 1 and t == 0: false_pos += 1\n",
        "\n",
        "  FPRs.append(false_pos / y_ts)\n",
        "  TPRs.append(m.recall_score(y_test, y_pred))\n",
        "  \n"
      ],
      "metadata": {
        "id": "Y046XLd3gWz4"
      },
      "execution_count": 101,
      "outputs": []
    },
    {
      "cell_type": "code",
      "source": [
        "import matplotlib.pyplot as plt\n",
        "%matplotlib inline"
      ],
      "metadata": {
        "id": "PjLnZSAmlYls"
      },
      "execution_count": 102,
      "outputs": []
    },
    {
      "cell_type": "code",
      "source": [
        "plt.plot(TPRs, FPRs)\n",
        "plt.xlabel(\"False Positive Rate\")\n",
        "plt.ylabel(\"True Positive Rate or Recall\")"
      ],
      "metadata": {
        "colab": {
          "base_uri": "https://localhost:8080/",
          "height": 297
        },
        "id": "LZm2vclJt70H",
        "outputId": "72355453-0306-4bc8-e723-93596039a017"
      },
      "execution_count": 106,
      "outputs": [
        {
          "output_type": "execute_result",
          "data": {
            "text/plain": [
              "Text(0, 0.5, 'True Positive Rate or Recall')"
            ]
          },
          "metadata": {},
          "execution_count": 106
        },
        {
          "output_type": "display_data",
          "data": {
            "text/plain": [
              "<Figure size 432x288 with 1 Axes>"
            ],
            "image/png": "[encoded data removed]"
          },
          "metadata": {
            "needs_background": "light"
          }
        }
      ]
    },
    {
      "cell_type": "markdown",
      "source": [
        "## Question 4"
      ],
      "metadata": {
        "id": "dRGWoMpdN2_G"
      }
    },
    {
      "cell_type": "code",
      "source": [
        "def k_fold_CV(k):\n",
        "\n",
        "  import warnings\n",
        "  warnings.filterwarnings(\"ignore\")\n",
        "\n",
        "  fold_size = len(x_train_np) // k\n",
        "  leftovers = len(x_train_np) % k\n",
        "\n",
        "  lda_errors = []\n",
        "  logit_errors = []\n",
        "\n",
        "  for i in range(k):\n",
        "    x_start = x_train_np[: fold_size * i]\n",
        "    x_end = x_train_np[fold_size * (i + 1):]\n",
        "\n",
        "    y_start = y_train_np[: fold_size * i]\n",
        "    y_end = y_train_np[fold_size * (i + 1):]\n",
        "\n",
        "    x_train_k = np.concatenate((x_start, x_end))\n",
        "    y_train_k = np.concatenate((y_start, y_end))\n",
        "\n",
        "    x_val = x_train_np[fold_size * i: fold_size * (i + 1)]\n",
        "    y_val = y_train_np[fold_size * i: fold_size * (i + 1)]\n",
        "\n",
        "    ldis_k = lda()\n",
        "    logit_k = LogisticRegression()\n",
        "\n",
        "    ldis_k.fit(x_train_k, y_train_k)\n",
        "    logit_k.fit(x_train_k, y_train_k)\n",
        "\n",
        "    lda_error = 1 - m.accuracy_score(y_val, ldis_k.predict(x_val))\n",
        "    logit_error = 1 - m.accuracy_score(y_val, logit_k.predict(x_val))\n",
        "\n",
        "    lda_errors.append(lda_error) \n",
        "    logit_errors.append(logit_error)\n",
        "\n",
        "    print(f\"Fold: {i + 1}/{k} \\t LDA Error: {round(lda_error, 4)} \\t Logit Error: {round(logit_error, 4)}\")\n",
        "\n",
        "  print(f\"\\n Average Validation Error \\nLDA: {round(sum(lda_errors) / len(lda_errors), 4)}\\nLogit: {round(sum(logit_errors) / len(logit_errors), 4)}\")"
      ],
      "metadata": {
        "id": "An-P9vH9t-2Q"
      },
      "execution_count": 172,
      "outputs": []
    },
    {
      "cell_type": "code",
      "source": [
        "k_fold_CV(5)"
      ],
      "metadata": {
        "colab": {
          "base_uri": "https://localhost:8080/"
        },
        "id": "5QlgOZvVHcKO",
        "outputId": "9fe7e4d0-90a0-4e2f-b606-aab18a8f4253"
      },
      "execution_count": 173,
      "outputs": [
        {
          "output_type": "stream",
          "name": "stdout",
          "text": [
            "Fold: 1/5 \t LDA Error: 0.1101 \t Logit Error: 0.0797\n",
            "Fold: 2/5 \t LDA Error: 0.0942 \t Logit Error: 0.0638\n",
            "Fold: 3/5 \t LDA Error: 0.113 \t Logit Error: 0.0855\n",
            "Fold: 4/5 \t LDA Error: 0.1275 \t Logit Error: 0.0855\n",
            "Fold: 5/5 \t LDA Error: 0.1333 \t Logit Error: 0.0957\n",
            "\n",
            " Average Validation Error \n",
            "LDA: 0.1157\n",
            "Logit: 0.082\n"
          ]
        }
      ]
    },
    {
      "cell_type": "code",
      "source": [
        "k_fold_CV(10)"
      ],
      "metadata": {
        "colab": {
          "base_uri": "https://localhost:8080/"
        },
        "id": "CogbTEghHegP",
        "outputId": "1f8a6427-f0f2-4f9c-d551-8132bbe2ca0f"
      },
      "execution_count": 174,
      "outputs": [
        {
          "output_type": "stream",
          "name": "stdout",
          "text": [
            "Fold: 1/10 \t LDA Error: 0.1246 \t Logit Error: 0.1043\n",
            "Fold: 2/10 \t LDA Error: 0.0986 \t Logit Error: 0.0522\n",
            "Fold: 3/10 \t LDA Error: 0.1101 \t Logit Error: 0.0696\n",
            "Fold: 4/10 \t LDA Error: 0.0899 \t Logit Error: 0.058\n",
            "Fold: 5/10 \t LDA Error: 0.1362 \t Logit Error: 0.1043\n",
            "Fold: 6/10 \t LDA Error: 0.0841 \t Logit Error: 0.0696\n",
            "Fold: 7/10 \t LDA Error: 0.1275 \t Logit Error: 0.0899\n",
            "Fold: 8/10 \t LDA Error: 0.1246 \t Logit Error: 0.0841\n",
            "Fold: 9/10 \t LDA Error: 0.1478 \t Logit Error: 0.1043\n",
            "Fold: 10/10 \t LDA Error: 0.1159 \t Logit Error: 0.1014\n",
            "\n",
            " Average Validation Error \n",
            "LDA: 0.1159\n",
            "Logit: 0.0838\n"
          ]
        }
      ]
    },
    {
      "cell_type": "code",
      "source": [
        ""
      ],
      "metadata": {
        "id": "F3soOtuqMsX1"
      },
      "execution_count": null,
      "outputs": []
    }
  ]
}