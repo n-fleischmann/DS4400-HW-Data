{
 "cells": [
  {
   "cell_type": "code",
   "execution_count": 36,
   "id": "c62c5ddb",
   "metadata": {},
   "outputs": [],
   "source": [
    "import pandas as pd\n",
    "from sklearn.model_selection import train_test_split\n",
    "from sklearn.metrics import accuracy_score, f1_score, roc_auc_score\n",
    "import matplotlib.pyplot as plt\n",
    "%matplotlib inline"
   ]
  },
  {
   "cell_type": "markdown",
   "id": "960bd24e",
   "metadata": {},
   "source": [
    "## Data"
   ]
  },
  {
   "cell_type": "code",
   "execution_count": 25,
   "id": "6cf6654f",
   "metadata": {},
   "outputs": [],
   "source": [
    "raw_df = pd.read_csv('./spambase.data', names=list(range(58)))"
   ]
  },
  {
   "cell_type": "code",
   "execution_count": 26,
   "id": "6b7d77f2",
   "metadata": {},
   "outputs": [
    {
     "data": {
      "text/html": [
       "<div>\n",
       "<style scoped>\n",
       "    .dataframe tbody tr th:only-of-type {\n",
       "        vertical-align: middle;\n",
       "    }\n",
       "\n",
       "    .dataframe tbody tr th {\n",
       "        vertical-align: top;\n",
       "    }\n",
       "\n",
       "    .dataframe thead th {\n",
       "        text-align: right;\n",
       "    }\n",
       "</style>\n",
       "<table border=\"1\" class=\"dataframe\">\n",
       "  <thead>\n",
       "    <tr style=\"text-align: right;\">\n",
       "      <th></th>\n",
       "      <th>0</th>\n",
       "      <th>1</th>\n",
       "      <th>2</th>\n",
       "      <th>3</th>\n",
       "      <th>4</th>\n",
       "      <th>5</th>\n",
       "      <th>6</th>\n",
       "      <th>7</th>\n",
       "      <th>8</th>\n",
       "      <th>9</th>\n",
       "      <th>...</th>\n",
       "      <th>48</th>\n",
       "      <th>49</th>\n",
       "      <th>50</th>\n",
       "      <th>51</th>\n",
       "      <th>52</th>\n",
       "      <th>53</th>\n",
       "      <th>54</th>\n",
       "      <th>55</th>\n",
       "      <th>56</th>\n",
       "      <th>57</th>\n",
       "    </tr>\n",
       "  </thead>\n",
       "  <tbody>\n",
       "    <tr>\n",
       "      <th>0</th>\n",
       "      <td>0.00</td>\n",
       "      <td>0.64</td>\n",
       "      <td>0.64</td>\n",
       "      <td>0.0</td>\n",
       "      <td>0.32</td>\n",
       "      <td>0.00</td>\n",
       "      <td>0.00</td>\n",
       "      <td>0.00</td>\n",
       "      <td>0.00</td>\n",
       "      <td>0.00</td>\n",
       "      <td>...</td>\n",
       "      <td>0.00</td>\n",
       "      <td>0.000</td>\n",
       "      <td>0.0</td>\n",
       "      <td>0.778</td>\n",
       "      <td>0.000</td>\n",
       "      <td>0.000</td>\n",
       "      <td>3.756</td>\n",
       "      <td>61</td>\n",
       "      <td>278</td>\n",
       "      <td>1</td>\n",
       "    </tr>\n",
       "    <tr>\n",
       "      <th>1</th>\n",
       "      <td>0.21</td>\n",
       "      <td>0.28</td>\n",
       "      <td>0.50</td>\n",
       "      <td>0.0</td>\n",
       "      <td>0.14</td>\n",
       "      <td>0.28</td>\n",
       "      <td>0.21</td>\n",
       "      <td>0.07</td>\n",
       "      <td>0.00</td>\n",
       "      <td>0.94</td>\n",
       "      <td>...</td>\n",
       "      <td>0.00</td>\n",
       "      <td>0.132</td>\n",
       "      <td>0.0</td>\n",
       "      <td>0.372</td>\n",
       "      <td>0.180</td>\n",
       "      <td>0.048</td>\n",
       "      <td>5.114</td>\n",
       "      <td>101</td>\n",
       "      <td>1028</td>\n",
       "      <td>1</td>\n",
       "    </tr>\n",
       "    <tr>\n",
       "      <th>2</th>\n",
       "      <td>0.06</td>\n",
       "      <td>0.00</td>\n",
       "      <td>0.71</td>\n",
       "      <td>0.0</td>\n",
       "      <td>1.23</td>\n",
       "      <td>0.19</td>\n",
       "      <td>0.19</td>\n",
       "      <td>0.12</td>\n",
       "      <td>0.64</td>\n",
       "      <td>0.25</td>\n",
       "      <td>...</td>\n",
       "      <td>0.01</td>\n",
       "      <td>0.143</td>\n",
       "      <td>0.0</td>\n",
       "      <td>0.276</td>\n",
       "      <td>0.184</td>\n",
       "      <td>0.010</td>\n",
       "      <td>9.821</td>\n",
       "      <td>485</td>\n",
       "      <td>2259</td>\n",
       "      <td>1</td>\n",
       "    </tr>\n",
       "    <tr>\n",
       "      <th>3</th>\n",
       "      <td>0.00</td>\n",
       "      <td>0.00</td>\n",
       "      <td>0.00</td>\n",
       "      <td>0.0</td>\n",
       "      <td>0.63</td>\n",
       "      <td>0.00</td>\n",
       "      <td>0.31</td>\n",
       "      <td>0.63</td>\n",
       "      <td>0.31</td>\n",
       "      <td>0.63</td>\n",
       "      <td>...</td>\n",
       "      <td>0.00</td>\n",
       "      <td>0.137</td>\n",
       "      <td>0.0</td>\n",
       "      <td>0.137</td>\n",
       "      <td>0.000</td>\n",
       "      <td>0.000</td>\n",
       "      <td>3.537</td>\n",
       "      <td>40</td>\n",
       "      <td>191</td>\n",
       "      <td>1</td>\n",
       "    </tr>\n",
       "    <tr>\n",
       "      <th>4</th>\n",
       "      <td>0.00</td>\n",
       "      <td>0.00</td>\n",
       "      <td>0.00</td>\n",
       "      <td>0.0</td>\n",
       "      <td>0.63</td>\n",
       "      <td>0.00</td>\n",
       "      <td>0.31</td>\n",
       "      <td>0.63</td>\n",
       "      <td>0.31</td>\n",
       "      <td>0.63</td>\n",
       "      <td>...</td>\n",
       "      <td>0.00</td>\n",
       "      <td>0.135</td>\n",
       "      <td>0.0</td>\n",
       "      <td>0.135</td>\n",
       "      <td>0.000</td>\n",
       "      <td>0.000</td>\n",
       "      <td>3.537</td>\n",
       "      <td>40</td>\n",
       "      <td>191</td>\n",
       "      <td>1</td>\n",
       "    </tr>\n",
       "  </tbody>\n",
       "</table>\n",
       "<p>5 rows × 58 columns</p>\n",
       "</div>"
      ],
      "text/plain": [
       "     0     1     2    3     4     5     6     7     8     9   ...    48  \\\n",
       "0  0.00  0.64  0.64  0.0  0.32  0.00  0.00  0.00  0.00  0.00  ...  0.00   \n",
       "1  0.21  0.28  0.50  0.0  0.14  0.28  0.21  0.07  0.00  0.94  ...  0.00   \n",
       "2  0.06  0.00  0.71  0.0  1.23  0.19  0.19  0.12  0.64  0.25  ...  0.01   \n",
       "3  0.00  0.00  0.00  0.0  0.63  0.00  0.31  0.63  0.31  0.63  ...  0.00   \n",
       "4  0.00  0.00  0.00  0.0  0.63  0.00  0.31  0.63  0.31  0.63  ...  0.00   \n",
       "\n",
       "      49   50     51     52     53     54   55    56  57  \n",
       "0  0.000  0.0  0.778  0.000  0.000  3.756   61   278   1  \n",
       "1  0.132  0.0  0.372  0.180  0.048  5.114  101  1028   1  \n",
       "2  0.143  0.0  0.276  0.184  0.010  9.821  485  2259   1  \n",
       "3  0.137  0.0  0.137  0.000  0.000  3.537   40   191   1  \n",
       "4  0.135  0.0  0.135  0.000  0.000  3.537   40   191   1  \n",
       "\n",
       "[5 rows x 58 columns]"
      ]
     },
     "execution_count": 26,
     "metadata": {},
     "output_type": "execute_result"
    }
   ],
   "source": [
    "raw_df.head()"
   ]
  },
  {
   "cell_type": "code",
   "execution_count": 27,
   "id": "eaca1817",
   "metadata": {},
   "outputs": [],
   "source": [
    "ys = raw_df[57]\n",
    "xs = raw_df.drop(57, axis=1)\n",
    "\n",
    "x_train, x_test, y_train, y_test = train_test_split(xs, ys, test_size=0.25, random_state = 2001)"
   ]
  },
  {
   "cell_type": "markdown",
   "id": "ed7e196a",
   "metadata": {},
   "source": [
    "## Q1 Decision Trees"
   ]
  },
  {
   "cell_type": "code",
   "execution_count": 28,
   "id": "0b8b7018",
   "metadata": {},
   "outputs": [],
   "source": [
    "from sklearn.tree import DecisionTreeClassifier as DTC "
   ]
  },
  {
   "cell_type": "code",
   "execution_count": 32,
   "id": "df856e59",
   "metadata": {},
   "outputs": [
    {
     "name": "stdout",
     "output_type": "stream",
     "text": [
      "Model: Training - Ent \t Accuracy: 0.9994 \t Error: 0.0006 \t F1: 0.9993 \t AUC: 1.0000\n",
      "Model: Testing  - Ent \t Accuracy: 0.9418 \t Error: 0.0582 \t F1: 0.9269 \t AUC: 0.9426\n"
     ]
    }
   ],
   "source": [
    "dtc = DTC(criterion='entropy')\n",
    "dtc.fit(x_train, y_train)\n",
    "\n",
    "# Training metrics\n",
    "y_train_hat = dtc.predict(x_train)\n",
    "train_acc = accuracy_score(y_train, y_train_hat)\n",
    "train_err = 1 - train_acc\n",
    "train_f1 = f1_score(y_train, y_train_hat)\n",
    "train_auc = roc_auc_score(y_train, dtc.predict_proba(x_train)[:, 1])\n",
    "\n",
    "# Testing metrics\n",
    "y_test_hat = dtc.predict(x_test)\n",
    "test_acc = accuracy_score(y_test, y_test_hat)\n",
    "test_err = 1 - test_acc\n",
    "test_f1 = f1_score(y_test, y_test_hat)\n",
    "test_auc = roc_auc_score(y_test, dtc.predict_proba(x_test)[:, 1])\n",
    "\n",
    "template = \"Model: {} \\t Accuracy: {:.4f} \\t Error: {:.4f} \\t F1: {:.4f} \\t AUC: {:.4f}\" \n",
    "\n",
    "print(template.format(\"Training - Ent\", train_acc, train_err, train_f1, train_auc))\n",
    "print(template.format(\"Testing  - Ent\", test_acc, test_err, test_f1, test_auc))"
   ]
  },
  {
   "cell_type": "code",
   "execution_count": 30,
   "id": "e7d5da01",
   "metadata": {},
   "outputs": [
    {
     "name": "stdout",
     "output_type": "stream",
     "text": [
      "Model: Training - Gini \t Accuracy: 0.9994 \t Error: 0.0006 \t F1: 0.9993 \t AUC: 1.0000\n",
      "Model: Testing  - Gini \t Accuracy: 0.9209 \t Error: 0.0791 \t F1: 0.9003 \t AUC: 0.9487\n"
     ]
    }
   ],
   "source": [
    "dtc_gini = DTC()\n",
    "dtc_gini.fit(x_train, y_train)\n",
    "\n",
    "# Training metrics\n",
    "y_train_hat = dtc_gini.predict(x_train)\n",
    "train_acc = accuracy_score(y_train, y_train_hat)\n",
    "train_err = 1 - train_acc\n",
    "train_f1 = f1_score(y_train, y_train_hat)\n",
    "train_auc = roc_auc_score(y_train, dtc.predict_proba(x_train)[:, 1])\n",
    "\n",
    "# Testing metrics\n",
    "y_test_hat = dtc_gini.predict(x_test)\n",
    "test_acc = accuracy_score(y_test, y_test_hat)\n",
    "test_err = 1 - test_acc\n",
    "test_f1 = f1_score(y_test, y_test_hat)\n",
    "test_auc = roc_auc_score(y_test, dtc.predict_proba(x_test)[:, 1])\n",
    "\n",
    "\n",
    "template = \"Model: {} \\t Accuracy: {:.4f} \\t Error: {:.4f} \\t F1: {:.4f} \\t AUC: {:.4f}\" \n",
    "\n",
    "print(template.format(\"Training - Gini\", train_acc, train_err, train_f1, train_auc))\n",
    "print(template.format(\"Testing  - Gini\", test_acc, test_err, test_f1, test_auc))"
   ]
  },
  {
   "cell_type": "code",
   "execution_count": 39,
   "id": "36d2d6d6",
   "metadata": {},
   "outputs": [],
   "source": [
    "# Using our entropy-trained dtc for max depth\n",
    "train_accs = []\n",
    "test_accs = []\n",
    "max = dtc.get_depth()\n",
    "\n",
    "for max_depth in range(1, max):\n",
    "    clf = DTC(criterion='entropy', max_depth=max_depth)\n",
    "    clf.fit(x_train, y_train)\n",
    "\n",
    "    y_train_hat = clf.predict(x_train)\n",
    "    y_hat = clf.predict(x_test)\n",
    "\n",
    "    train_accs.append(accuracy_score(y_train, y_train_hat))\n",
    "    test_accs.append(accuracy_score(y_test, y_hat))\n",
    "\n",
    "\n",
    "\n",
    "\n"
   ]
  },
  {
   "cell_type": "code",
   "execution_count": 40,
   "id": "f1a7291d",
   "metadata": {},
   "outputs": [
    {
     "data": {
      "text/plain": [
       "[<matplotlib.lines.Line2D at 0x1421a6070>]"
      ]
     },
     "execution_count": 40,
     "metadata": {},
     "output_type": "execute_result"
    },
    {
     "data": {
      "image/png": "[encoded data removed]",
      "text/plain": [
       "<Figure size 432x288 with 1 Axes>"
      ]
     },
     "metadata": {
      "needs_background": "light"
     },
     "output_type": "display_data"
    }
   ],
   "source": [
    "plt.plot(range(1, max), train_accs)\n",
    "plt.plot(range(1, max), test_accs)"
   ]
  },
  {
   "cell_type": "code",
   "execution_count": null,
   "id": "aba72f10",
   "metadata": {},
   "outputs": [],
   "source": []
  },
  {
   "cell_type": "markdown",
   "id": "930d0cff",
   "metadata": {},
   "source": [
    "## Q2 Random Forest"
   ]
  },
  {
   "cell_type": "code",
   "execution_count": 42,
   "id": "3724cad8",
   "metadata": {},
   "outputs": [],
   "source": [
    "from sklearn.ensemble import RandomForestClassifier as RFC "
   ]
  },
  {
   "cell_type": "code",
   "execution_count": 188,
   "id": "53cd52a6",
   "metadata": {},
   "outputs": [
    {
     "name": "stdout",
     "output_type": "stream",
     "text": [
      "Model: Training - 10 \t Accuracy: 0.99594203 \t Error: 0.00405797 \t F1: 0.99484536 \t AUC: 0.99997997\n",
      "Model: Training - 50 \t Accuracy: 0.99942029 \t Error: 0.00057971 \t F1: 0.99926686 \t AUC: 0.99999754\n",
      "Model: Training - 100 \t Accuracy: 0.99942029 \t Error: 0.00057971 \t F1: 0.99926632 \t AUC: 0.99999930\n",
      "Model: Training - 500 \t Accuracy: 0.99942029 \t Error: 0.00057971 \t F1: 0.99926686 \t AUC: 0.99999930\n",
      "\n",
      "\n",
      "Model: Testing  - 10 \t Accuracy: 0.94439618 \t Error: 0.05560382 \t F1: 0.92792793 \t AUC: 0.98315186\n",
      "Model: Testing  - 50 \t Accuracy: 0.95308427 \t Error: 0.04691573 \t F1: 0.93891403 \t AUC: 0.98961922\n",
      "Model: Testing  - 100 \t Accuracy: 0.95742832 \t Error: 0.04257168 \t F1: 0.94438138 \t AUC: 0.99162590\n",
      "Model: Testing  - 500 \t Accuracy: 0.95482189 \t Error: 0.04517811 \t F1: 0.94090909 \t AUC: 0.99154658\n"
     ]
    }
   ],
   "source": [
    "Ts = [10, 50, 100, 500]\n",
    "\n",
    "trainings = []\n",
    "testings = []\n",
    "\n",
    "\n",
    "for T in Ts:\n",
    "\n",
    "    rfc = RFC(n_estimators=T)\n",
    "    rfc.fit(x_train, y_train)\n",
    "\n",
    "    # Training metrics\n",
    "    y_train_hat = rfc.predict(x_train)\n",
    "    train_acc = accuracy_score(y_train, y_train_hat)\n",
    "    train_err = 1 - train_acc\n",
    "    train_f1 = f1_score(y_train, y_train_hat)\n",
    "    train_auc = roc_auc_score(y_train, rfc.predict_proba(x_train)[:, 1])\n",
    "\n",
    "    # Testing metrics\n",
    "    y_test_hat = rfc.predict(x_test)\n",
    "    test_acc = accuracy_score(y_test, y_test_hat)\n",
    "    test_err = 1 - test_acc\n",
    "    test_f1 = f1_score(y_test, y_test_hat)\n",
    "    test_auc = roc_auc_score(y_test, rfc.predict_proba(x_test)[:, 1])\n",
    "\n",
    "    template = \"Model: {} \\t Accuracy: {:.8f} \\t Error: {:.8f} \\t F1: {:.8f} \\t AUC: {:.8f}\" \n",
    "\n",
    "    trainings.append(template.format(f\"Training - {T}\", train_acc, train_err, train_f1, train_auc))\n",
    "    testings.append(template.format(f\"Testing  - {T}\", test_acc, test_err, test_f1, test_auc))\n",
    "\n",
    "for p in trainings:\n",
    "    print(p)\n",
    "\n",
    "print('\\n')\n",
    "for p in testings:\n",
    "    print(p)"
   ]
  },
  {
   "cell_type": "code",
   "execution_count": 48,
   "id": "d7df1e41",
   "metadata": {},
   "outputs": [
    {
     "data": {
      "text/plain": [
       "<AxesSubplot:>"
      ]
     },
     "execution_count": 48,
     "metadata": {},
     "output_type": "execute_result"
    },
    {
     "data": {
      "image/png": "[encoded data removed]",
      "text/plain": [
       "<Figure size 432x288 with 1 Axes>"
      ]
     },
     "metadata": {
      "needs_background": "light"
     },
     "output_type": "display_data"
    }
   ],
   "source": [
    "rfc_50 = RFC(n_estimators=50)\n",
    "rfc.fit(x_train, y_train)\n",
    "pd.Series(rfc.feature_importances_).plot.bar()\n"
   ]
  },
  {
   "cell_type": "markdown",
   "id": "2b79ef39",
   "metadata": {},
   "source": [
    "## Q3 Adaboost"
   ]
  },
  {
   "cell_type": "code",
   "execution_count": 49,
   "id": "f47ccf59",
   "metadata": {},
   "outputs": [],
   "source": [
    "from sklearn.ensemble import AdaBoostClassifier as ADC "
   ]
  },
  {
   "cell_type": "code",
   "execution_count": 187,
   "id": "692191b9",
   "metadata": {},
   "outputs": [
    {
     "name": "stdout",
     "output_type": "stream",
     "text": [
      "Model: Training - 10 \t Accuracy: 0.9994 \t Error: 0.0006 \t F1: 0.9993 \t AUC: 1.0000\n",
      "Model: Training - 50 \t Accuracy: 0.9994 \t Error: 0.0006 \t F1: 0.9993 \t AUC: 1.0000\n",
      "Model: Training - 100 \t Accuracy: 0.9994 \t Error: 0.0006 \t F1: 0.9993 \t AUC: 1.0000\n",
      "Model: Training - 500 \t Accuracy: 0.9994 \t Error: 0.0006 \t F1: 0.9993 \t AUC: 1.0000\n",
      "\n",
      "\n",
      "Model: Testing  - 10 \t Accuracy: 0.9427 \t Error: 0.0573 \t F1: 0.9255 \t AUC: 0.9734\n",
      "Model: Testing  - 50 \t Accuracy: 0.9496 \t Error: 0.0504 \t F1: 0.9345 \t AUC: 0.9861\n",
      "Model: Testing  - 100 \t Accuracy: 0.9522 \t Error: 0.0478 \t F1: 0.9373 \t AUC: 0.9802\n",
      "Model: Testing  - 500 \t Accuracy: 0.9548 \t Error: 0.0452 \t F1: 0.9413 \t AUC: 0.9881\n"
     ]
    }
   ],
   "source": [
    "Cs = [10, 50, 100, 500]\n",
    "\n",
    "trainings = []\n",
    "testings = []\n",
    "\n",
    "for C in Cs:\n",
    "    adc = ADC(base_estimator=DTC(), n_estimators=C)\n",
    "    adc.fit(x_train, y_train)\n",
    "\n",
    "    # Training metrics\n",
    "    y_train_hat = adc.predict(x_train)\n",
    "    train_acc = accuracy_score(y_train, y_train_hat)\n",
    "    train_err = 1 - train_acc\n",
    "    train_f1 = f1_score(y_train, y_train_hat)\n",
    "    train_auc = roc_auc_score(y_train, adc.predict_proba(x_train)[:, 1])\n",
    "\n",
    "    # Testing metrics\n",
    "    y_test_hat = adc.predict(x_test)\n",
    "    test_acc = accuracy_score(y_test, y_test_hat)\n",
    "    test_err = 1 - test_acc\n",
    "    test_f1 = f1_score(y_test, y_test_hat)\n",
    "    test_auc = roc_auc_score(y_test, adc.predict_proba(x_test)[:, 1])\n",
    "\n",
    "    template = \"Model: {} \\t Accuracy: {:.4f} \\t Error: {:.4f} \\t F1: {:.4f} \\t AUC: {:.4f}\" \n",
    "\n",
    "    trainings.append(template.format(f\"Training - {C}\", train_acc, train_err, train_f1, train_auc))\n",
    "    testings.append(template.format(f\"Testing  - {C}\", test_acc, test_err, test_f1, test_auc))\n",
    "\n",
    "for p in trainings:\n",
    "    print(p)\n",
    "\n",
    "print('\\n')\n",
    "for p in testings:\n",
    "    print(p)\n",
    "\n",
    "    "
   ]
  },
  {
   "cell_type": "code",
   "execution_count": 53,
   "id": "a240e49d",
   "metadata": {},
   "outputs": [],
   "source": [
    "from sklearn.metrics import roc_curve"
   ]
  },
  {
   "cell_type": "code",
   "execution_count": 193,
   "id": "3316ff0a",
   "metadata": {},
   "outputs": [
    {
     "name": "stdout",
     "output_type": "stream",
     "text": [
      "Model: Training - Ada \t Accuracy: 0.9994 \t Error: 0.0006 \t F1: 0.9993 \t AUC: 1.0000\n",
      "Model: Training - Ran \t Accuracy: 0.9994 \t Error: 0.0006 \t F1: 0.9993 \t AUC: 1.0000\n",
      "Model: Training - Dec \t Accuracy: 0.9994 \t Error: 0.0006 \t F1: 0.9993 \t AUC: 1.0000\n",
      "\n",
      "\n",
      "Model: Testing  - Ada \t Accuracy: 0.9557 \t Error: 0.0443 \t F1: 0.9425 \t AUC: 0.9890\n",
      "Model: Testing  - Ran \t Accuracy: 0.9531 \t Error: 0.0469 \t F1: 0.9388 \t AUC: 0.9913\n",
      "Model: Testing  - Dec \t Accuracy: 0.9175 \t Error: 0.0825 \t F1: 0.8953 \t AUC: 0.9161\n"
     ]
    },
    {
     "data": {
      "image/png": "[encoded data removed]",
      "text/plain": [
       "<Figure size 432x288 with 1 Axes>"
      ]
     },
     "metadata": {
      "needs_background": "light"
     },
     "output_type": "display_data"
    }
   ],
   "source": [
    "thresholds = [x / 10 for x in range(11)]\n",
    "\n",
    "trainings = []\n",
    "testings = []\n",
    "\n",
    "adc = ADC(base_estimator=DTC(), n_estimators=100)\n",
    "adc.fit(x_train, y_train)\n",
    "fpr, tpr, _ = roc_curve(y_test, adc.predict_proba(x_test)[:, 1])\n",
    "plt.plot(fpr, tpr)\n",
    "\n",
    "rfc = RFC(n_estimators=100)\n",
    "rfc.fit(x_train, y_train)\n",
    "fpr, tpr, _ = roc_curve(y_test, rfc.predict_proba(x_test)[:, 1])\n",
    "plt.plot(fpr, tpr)\n",
    "\n",
    "dtc = DTC()\n",
    "dtc.fit(x_train, y_train)\n",
    "fpr, tpr, _ = roc_curve(y_test, dtc.predict_proba(x_test)[:, 1])\n",
    "plt.plot(fpr, tpr)\n",
    "\n",
    "for model in [adc, rfc, dtc]:\n",
    "    y_test_hat = model.predict(x_test)\n",
    "    test_acc = accuracy_score(y_test, y_test_hat)\n",
    "    test_err = 1 - test_acc\n",
    "    test_f1 = f1_score(y_test, y_test_hat)\n",
    "    test_auc = roc_auc_score(y_test, model.predict_proba(x_test)[:, 1])\n",
    "\n",
    "    template = \"Model: {} \\t Accuracy: {:.4f} \\t Error: {:.4f} \\t F1: {:.4f} \\t AUC: {:.4f}\" \n",
    "\n",
    "    trainings.append(template.format(f\"Training - {model.__repr__()[:3]}\", train_acc, train_err, train_f1, train_auc))\n",
    "    testings.append(template.format(f\"Testing  - {model.__repr__()[:3]}\", test_acc, test_err, test_f1, test_auc))\n",
    "\n",
    "\n",
    "for p in trainings:\n",
    "    print(p)\n",
    "\n",
    "print('\\n')\n",
    "for p in testings:\n",
    "    print(p)"
   ]
  },
  {
   "cell_type": "markdown",
   "id": "dad23fc4",
   "metadata": {},
   "source": [
    "## Question 4 Naive Bayes"
   ]
  },
  {
   "cell_type": "code",
   "execution_count": 64,
   "id": "ced7074b",
   "metadata": {},
   "outputs": [],
   "source": [
    "import numpy as np"
   ]
  },
  {
   "cell_type": "code",
   "execution_count": 93,
   "id": "c7fd3b7f",
   "metadata": {},
   "outputs": [
    {
     "data": {
      "text/html": [
       "<div>\n",
       "<style scoped>\n",
       "    .dataframe tbody tr th:only-of-type {\n",
       "        vertical-align: middle;\n",
       "    }\n",
       "\n",
       "    .dataframe tbody tr th {\n",
       "        vertical-align: top;\n",
       "    }\n",
       "\n",
       "    .dataframe thead th {\n",
       "        text-align: right;\n",
       "    }\n",
       "</style>\n",
       "<table border=\"1\" class=\"dataframe\">\n",
       "  <thead>\n",
       "    <tr style=\"text-align: right;\">\n",
       "      <th></th>\n",
       "      <th>1</th>\n",
       "      <th>2</th>\n",
       "      <th>3</th>\n",
       "      <th>4</th>\n",
       "      <th>5</th>\n",
       "      <th>6</th>\n",
       "      <th>7</th>\n",
       "      <th>8</th>\n",
       "      <th>9</th>\n",
       "      <th>10</th>\n",
       "      <th>...</th>\n",
       "      <th>13</th>\n",
       "      <th>14</th>\n",
       "      <th>15</th>\n",
       "      <th>16</th>\n",
       "      <th>17</th>\n",
       "      <th>18</th>\n",
       "      <th>19</th>\n",
       "      <th>20</th>\n",
       "      <th>21</th>\n",
       "      <th>22</th>\n",
       "    </tr>\n",
       "  </thead>\n",
       "  <tbody>\n",
       "    <tr>\n",
       "      <th>480</th>\n",
       "      <td>b</td>\n",
       "      <td>y</td>\n",
       "      <td>y</td>\n",
       "      <td>t</td>\n",
       "      <td>a</td>\n",
       "      <td>f</td>\n",
       "      <td>c</td>\n",
       "      <td>b</td>\n",
       "      <td>k</td>\n",
       "      <td>e</td>\n",
       "      <td>...</td>\n",
       "      <td>s</td>\n",
       "      <td>w</td>\n",
       "      <td>w</td>\n",
       "      <td>p</td>\n",
       "      <td>w</td>\n",
       "      <td>o</td>\n",
       "      <td>p</td>\n",
       "      <td>k</td>\n",
       "      <td>s</td>\n",
       "      <td>m</td>\n",
       "    </tr>\n",
       "    <tr>\n",
       "      <th>2172</th>\n",
       "      <td>f</td>\n",
       "      <td>f</td>\n",
       "      <td>g</td>\n",
       "      <td>t</td>\n",
       "      <td>n</td>\n",
       "      <td>f</td>\n",
       "      <td>c</td>\n",
       "      <td>b</td>\n",
       "      <td>n</td>\n",
       "      <td>t</td>\n",
       "      <td>...</td>\n",
       "      <td>s</td>\n",
       "      <td>g</td>\n",
       "      <td>g</td>\n",
       "      <td>p</td>\n",
       "      <td>w</td>\n",
       "      <td>o</td>\n",
       "      <td>p</td>\n",
       "      <td>n</td>\n",
       "      <td>v</td>\n",
       "      <td>d</td>\n",
       "    </tr>\n",
       "    <tr>\n",
       "      <th>7867</th>\n",
       "      <td>x</td>\n",
       "      <td>s</td>\n",
       "      <td>g</td>\n",
       "      <td>f</td>\n",
       "      <td>n</td>\n",
       "      <td>f</td>\n",
       "      <td>w</td>\n",
       "      <td>b</td>\n",
       "      <td>g</td>\n",
       "      <td>e</td>\n",
       "      <td>...</td>\n",
       "      <td>s</td>\n",
       "      <td>w</td>\n",
       "      <td>w</td>\n",
       "      <td>p</td>\n",
       "      <td>w</td>\n",
       "      <td>t</td>\n",
       "      <td>p</td>\n",
       "      <td>w</td>\n",
       "      <td>s</td>\n",
       "      <td>g</td>\n",
       "    </tr>\n",
       "    <tr>\n",
       "      <th>5050</th>\n",
       "      <td>x</td>\n",
       "      <td>y</td>\n",
       "      <td>g</td>\n",
       "      <td>f</td>\n",
       "      <td>f</td>\n",
       "      <td>f</td>\n",
       "      <td>c</td>\n",
       "      <td>b</td>\n",
       "      <td>p</td>\n",
       "      <td>e</td>\n",
       "      <td>...</td>\n",
       "      <td>k</td>\n",
       "      <td>b</td>\n",
       "      <td>b</td>\n",
       "      <td>p</td>\n",
       "      <td>w</td>\n",
       "      <td>o</td>\n",
       "      <td>l</td>\n",
       "      <td>h</td>\n",
       "      <td>v</td>\n",
       "      <td>d</td>\n",
       "    </tr>\n",
       "    <tr>\n",
       "      <th>4636</th>\n",
       "      <td>x</td>\n",
       "      <td>y</td>\n",
       "      <td>y</td>\n",
       "      <td>f</td>\n",
       "      <td>f</td>\n",
       "      <td>f</td>\n",
       "      <td>c</td>\n",
       "      <td>b</td>\n",
       "      <td>p</td>\n",
       "      <td>e</td>\n",
       "      <td>...</td>\n",
       "      <td>k</td>\n",
       "      <td>p</td>\n",
       "      <td>b</td>\n",
       "      <td>p</td>\n",
       "      <td>w</td>\n",
       "      <td>o</td>\n",
       "      <td>l</td>\n",
       "      <td>h</td>\n",
       "      <td>v</td>\n",
       "      <td>p</td>\n",
       "    </tr>\n",
       "  </tbody>\n",
       "</table>\n",
       "<p>5 rows × 22 columns</p>\n",
       "</div>"
      ],
      "text/plain": [
       "     1  2  3  4  5  6  7  8  9  10  ... 13 14 15 16 17 18 19 20 21 22\n",
       "480   b  y  y  t  a  f  c  b  k  e  ...  s  w  w  p  w  o  p  k  s  m\n",
       "2172  f  f  g  t  n  f  c  b  n  t  ...  s  g  g  p  w  o  p  n  v  d\n",
       "7867  x  s  g  f  n  f  w  b  g  e  ...  s  w  w  p  w  t  p  w  s  g\n",
       "5050  x  y  g  f  f  f  c  b  p  e  ...  k  b  b  p  w  o  l  h  v  d\n",
       "4636  x  y  y  f  f  f  c  b  p  e  ...  k  p  b  p  w  o  l  h  v  p\n",
       "\n",
       "[5 rows x 22 columns]"
      ]
     },
     "execution_count": 93,
     "metadata": {},
     "output_type": "execute_result"
    }
   ],
   "source": [
    "mush_raw = pd.read_csv('./agaricus-lepiota.data', names=list(range(23)))\n",
    "\n",
    "ys = mush_raw[0]\n",
    "xs = mush_raw.drop(0, axis=1)\n",
    "\n",
    "x_train_mush, x_test_mush, y_train_mush, y_test_mush = train_test_split(xs, ys, test_size=0.25, random_state = 2001)\n",
    "\n",
    "x_train_mush.head()"
   ]
  },
  {
   "cell_type": "code",
   "execution_count": 166,
   "id": "434088aa",
   "metadata": {},
   "outputs": [],
   "source": [
    "priors = {'p': {x: {} for x in range(1, 23)}, 'e': {x: {} for x in range(1, 23)}}\n",
    "\n",
    "# go through each column and make an entry in the prior for each unique value\n",
    "# start with 1 for laplace smoothing\n",
    "\n",
    "for col in x_train_mush.columns:\n",
    "    priors['p'][col] = {entry: 1 for entry in x_train_mush[col].unique()}\n",
    "    priors['e'][col] = {entry: 1 for entry in x_train_mush[col].unique()}\n",
    "\n",
    "\n",
    "for idx, data in x_train_mush.iterrows():\n",
    "    access = priors[y_train_mush[idx]]\n",
    "\n",
    "    for col in range(1, 23):\n",
    "        entry = data[col]\n",
    "        access[col][entry] += 1\n",
    "\n",
    "counts = y_train_mush.value_counts()\n",
    "\n",
    "for label, data in priors.items():\n",
    "    for idx, feature in data.items():\n",
    "        for entry, count in feature.items():\n",
    "            # add no. of unique entries in the feature to finish laplace smoothing\n",
    "            # divide to turn into true prior\n",
    "            feature[entry] = count / (y_train_mush.value_counts()[label] + len(feature))\n",
    "\n",
    "\n",
    "def predict_NB(x):\n",
    "    score_p = counts['p'] / len(x_train_mush) # start with this value to calculate P(y=y_i)P(x=x_i | y=y_i)\n",
    "\n",
    "    for col in range(1, 23):\n",
    "        entry = x[1][col]\n",
    "        prior = priors['p'][col][entry]\n",
    "        score_p *= prior\n",
    "\n",
    "\n",
    "    score_e = counts['e'] / len(x_train_mush)\n",
    "    for col in range(1, 23):\n",
    "        entry = x[1][col]\n",
    "        prior = priors['e'][col][entry]\n",
    "        score_e *= prior \n",
    "\n",
    "    if score_p > score_e:\n",
    "        return 1\n",
    "    return 0 \n",
    "\n"
   ]
  },
  {
   "cell_type": "code",
   "execution_count": 169,
   "id": "31381d29",
   "metadata": {},
   "outputs": [],
   "source": [
    "from sklearn.metrics import precision_score, recall_score"
   ]
  },
  {
   "cell_type": "code",
   "execution_count": 194,
   "id": "ee83679e",
   "metadata": {},
   "outputs": [
    {
     "name": "stdout",
     "output_type": "stream",
     "text": [
      "Model: Testing \t Accuracy: 0.94977843 \t Error: 0.05022157 \t Precision: 0.99132321 \t Recall: 0.90674603\n"
     ]
    }
   ],
   "source": [
    "converter = {'e': 0, 'p': 1}\n",
    "\n",
    "y_test_hat_mush = [converter[predict_NB(x)] for x in x_test_mush.iterrows()]\n",
    "\n",
    "y_test_mush_eval = y_test_mush.replace(converter)\n",
    "\n",
    "# Testing metrics\n",
    "acc = accuracy_score(y_test_mush_eval, y_test_hat_mush)\n",
    "err = 1 - acc\n",
    "prec = precision_score(y_test_mush_eval, y_test_hat_mush)\n",
    "rec = recall_score(y_test_mush_eval, y_test_hat_mush)\n",
    "\n",
    "template = \"Model: {} \\t Accuracy: {:.8f} \\t Error: {:.8f} \\t Precision: {:.8f} \\t Recall: {:.8f}\" \n",
    "\n",
    "print(template.format(\"Testing\", acc, err, prec, rec))\n",
    "\n"
   ]
  },
  {
   "cell_type": "code",
   "execution_count": 195,
   "id": "a55158b7",
   "metadata": {},
   "outputs": [
    {
     "name": "stdout",
     "output_type": "stream",
     "text": [
      "Model: Testing \t Accuracy: 0.94977843 \t Error: 0.05022157 \t Precision: 0.99132321 \t Recall: 0.90674603\n"
     ]
    }
   ],
   "source": [
    "from sklearn.naive_bayes import CategoricalNB as CNB \n",
    "from sklearn.preprocessing import LabelEncoder\n",
    "\n",
    "converter = {'e': 0, 'p': 1}\n",
    "\n",
    "x_train_enc = pd.DataFrame()\n",
    "x_test_enc = pd.DataFrame()\n",
    "\n",
    "for col in x_train_mush.columns:\n",
    "    le = LabelEncoder()\n",
    "    x_train_enc[col] = le.fit_transform(x_train_mush[col])\n",
    "    x_test_enc[col] = le.transform(x_test_mush[col])\n",
    "\n",
    "y_train_enc = y_train_mush.replace(converter)\n",
    "y_test_enc = y_test_mush.replace(converter)\n",
    "\n",
    "\n",
    "cnb = CNB()\n",
    "cnb.fit(x_train_enc, y_train_enc)\n",
    "\n",
    "y_test_hat_mush_package = cnb.predict(x_test_enc)\n",
    "\n",
    "# Testing metrics\n",
    "acc = accuracy_score(y_test_enc, y_test_hat_mush_package)\n",
    "err = 1 - acc\n",
    "prec = precision_score(y_test_enc, y_test_hat_mush_package)\n",
    "rec = recall_score(y_test_enc, y_test_hat_mush_package)\n",
    "\n",
    "template = \"Model: {} \\t Accuracy: {:.8f} \\t Error: {:.8f} \\t Precision: {:.8f} \\t Recall: {:.8f}\" \n",
    "\n",
    "print(template.format(\"Testing\", acc, err, prec, rec))"
   ]
  },
  {
   "cell_type": "code",
   "execution_count": 181,
   "metadata": {},
   "outputs": [
    {
     "data": {
      "text/plain": [
       "array([2, 5, 3, ..., 4, 5, 2])"
      ]
     },
     "execution_count": 181,
     "metadata": {},
     "output_type": "execute_result"
    }
   ],
   "source": []
  },
  {
   "cell_type": "markdown",
   "id": "407ccac1",
   "metadata": {},
   "source": []
  }
 ],
 "metadata": {
  "kernelspec": {
   "display_name": "Python 3 (ipykernel)",
   "language": "python",
   "name": "python3"
  },
  "language_info": {
   "codemirror_mode": {
    "name": "ipython",
    "version": 3
   },
   "file_extension": ".py",
   "mimetype": "text/x-python",
   "name": "python",
   "nbconvert_exporter": "python",
   "pygments_lexer": "ipython3",
   "version": "3.8.2"
  }
 },
 "nbformat": 4,
 "nbformat_minor": 5
}
